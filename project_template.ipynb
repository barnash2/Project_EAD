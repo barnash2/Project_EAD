{
 "cells": [
  {
   "cell_type": "markdown",
   "id": "2b472d62-ccbc-47a9-9506-5fd47bf1e90e",
   "metadata": {
    "jp-MarkdownHeadingCollapsed": true
   },
   "source": [
    "<div dir=\"rtl\">\n",
    "    \n",
    "### מלאו את הקובץ ושלחו לרז\n",
    "\n",
    "   - **ניתן למלא באנגלית או עברית**\n",
    "   - **מומלץ להשתמש בהמשך באותו הקובץ להגשת הפרויקט (מיחקו את התא הזה)**\n",
    "   - **הקפידו למלא טקסט בשדות מסוג מארק-דאון וקוד בשדות מסוג קוד (אחרת ירדו לכם נקודות)**\n",
    "     \n",
    "###   מלאו את כל הסעיפים. הניקוד ינתן באופן הבא:\n",
    "- **שם הפרויקט (3-4 מילים) - 5 נקודות** \n",
    "- **שמות מלאים של כל חברי הצוות, ללא ת.ז - 5 נקודות**\n",
    "- **תיאור הפרויקט (3-4 משפטים) - 10 נקודות**\n",
    "- **קישור למקור ממנו הורדתם את הנתונים - 10 נקודות**\n",
    "- **קריאת הקובץ מהגיטהאב שלכם - 10 נקודות**\n",
    "- **הסבר על מקור הנתונים - 10 נקודות**\n",
    "- **תיאור קצר של הדאטה בעזרת הפקודות שנלמדו בקורס - 20 נקודות**\n",
    "- **שלוש שאלות ראשוניות של דברים שהיה מעניין אתכם להוציא מהקובץ - 30 נקודות**\n",
    "#### בהצלחה !\n",
    "</div>"
   ]
  },
  {
   "cell_type": "markdown",
   "id": "a275784e-8460-4468-98f0-e7755b6986f7",
   "metadata": {},
   "source": [
    "# Project Name: Road Accidents In UK\n"
   ]
  },
  {
   "cell_type": "markdown",
   "id": "6921219d-f822-482a-8986-760fb55fc518",
   "metadata": {},
   "source": [
    "### Project team members: \n",
    "- עמית אהרון\n",
    "- אוריה ברנשטיין\n",
    "- גולן סמט"
   ]
  },
  {
   "cell_type": "markdown",
   "id": "9b1b8607-f4b8-4bf0-b524-1a7e7d3200f6",
   "metadata": {},
   "source": [
    "### Project number: <insert here>\n",
    "2"
   ]
  },
  {
   "cell_type": "markdown",
   "id": "1935e972-e267-49ee-b637-abe0202cca05",
   "metadata": {},
   "source": [
    "### Project description: \n",
    "ניתוח נתונים שנאספו מרשויות אזוריות ברחבי בריטניה אודות תאונות דרכים. במסגרת הניתוח, המטרה היא לבחון את הגורמים המשפיעים על אירועי התאונה, ההשלכות והנזקים הקשורים אליה, וכן השפעות משמעותיות הנובעות מגורמים שונים במהלך התאונה ובזמן שקדם לה. תהליך זה נועד להפיק תובנות מעמיקות במטרה לשפר את ההבנה בנושא ולתרום לפיתוח אסטרטגיות למניעת תאונות ולקידום בטיחות בדרכים."
   ]
  },
  {
   "cell_type": "markdown",
   "id": "b043a0ae-6e42-4120-8997-5724eb01acf1",
   "metadata": {},
   "source": [
    "### Link to the data: \n",
    "[Car Accidends In UK](https://www.kaggle.com/datasets/nextmillionaire/car-accident-dataset/data)\n"
   ]
  },
  {
   "cell_type": "markdown",
   "id": "5a50c015-5907-45c3-8aef-bacaf1c00c6a",
   "metadata": {},
   "source": [
    "### Explain the data source:\n",
    "מקור המידע נאסף מהרשויות העירוניות של צ'לסי וקנזינגטון, שהן חלק מהרשויות המקומיות הפועלות בתחום עיריית לונדון. רשויות אלו, אשר ממוקמות באזורים המרכזיים של הבירה האנגלית, נמצאות תחת סמכותה של עיריית לונדון, המנהלת את פעילויות המנהל הציבורי ומוסדותיו ברחבי העיר. "
   ]
  },
  {
   "cell_type": "markdown",
   "id": "a66dd24f-ed31-42b8-b6fe-425a4a87e535",
   "metadata": {},
   "source": [
    "----"
   ]
  },
  {
   "cell_type": "markdown",
   "id": "40924565-a0c6-4f91-b4c1-57816a816cbe",
   "metadata": {},
   "source": [
    "#### Read you file from Github:"
   ]
  },
  {
   "cell_type": "code",
   "execution_count": 114,
   "id": "5dbc7e4b-6bbf-40f0-825d-30b1eb4b6ac6",
   "metadata": {},
   "outputs": [],
   "source": [
    "# YOUR CODE HERE\n"
   ]
  },
  {
   "cell_type": "code",
   "execution_count": null,
   "id": "10ba557c-f1b4-45cf-8771-2764ad1a02de",
   "metadata": {},
   "outputs": [],
   "source": []
  },
  {
   "cell_type": "markdown",
   "id": "f2a78930-bf7b-4d50-902b-c35a91b19ab0",
   "metadata": {},
   "source": [
    "#### Describe the data\n",
    "* How many rows?\n",
    "* How many columns?\n",
    "* How many numeric columns? (not including numerical identifiers - numbers that uniquely define the row)\n",
    "* How many categorical columns? (not including string identifiers -  values that uniquely define the row)"
   ]
  },
  {
   "cell_type": "code",
   "execution_count": 4,
   "id": "e4ee07da-fff9-4b58-b0a3-3dd1692017ec",
   "metadata": {},
   "outputs": [
    {
     "name": "stdout",
     "output_type": "stream",
     "text": [
      "(307973, 21)\n",
      "The number of rows is 307973\n",
      "The number of columns is 21\n"
     ]
    }
   ],
   "source": [
    "import pandas as pd\n",
    "Car_Accidents_In_UK = r\"C:\\Users\\amit0\\Downloads\\Road Accident Data.csv\\Road Accident Data.csv\"\n",
    "CarA_df = pd.read_csv(Car_Accidents_In_UK)\n",
    "\n",
    "print(CarA_df.shape)\n",
    "print(f\"The number of rows is {len(CarA_df)}\")\n",
    "print(f\"The number of columns is {len(CarA_df.columns)}\")"
   ]
  },
  {
   "cell_type": "code",
   "execution_count": 5,
   "id": "b567afc7-0965-4662-95a4-952e20e9ed79",
   "metadata": {},
   "outputs": [
    {
     "name": "stdout",
     "output_type": "stream",
     "text": [
      "The number of numeric columns is: 5 columns\n"
     ]
    }
   ],
   "source": [
    "numeric_columns = CarA_df.select_dtypes(include=['number'])\n",
    "num_numeric_columns = len(numeric_columns.columns)\n",
    "print(f\"The number of numeric columns is: {num_numeric_columns} columns\")"
   ]
  },
  {
   "cell_type": "code",
   "execution_count": 6,
   "id": "c1c5b80f-7f37-4ea0-995f-d9c712bdb687",
   "metadata": {},
   "outputs": [
    {
     "name": "stdout",
     "output_type": "stream",
     "text": [
      "The number of numeric columns is: 16 columns\n"
     ]
    }
   ],
   "source": [
    "categorical_columns = CarA_df.select_dtypes(include=['object'])\n",
    "num_categorical_columns = len(categorical_columns.columns)\n",
    "print(f\"The number of numeric columns is: {num_categorical_columns} columns\")"
   ]
  },
  {
   "cell_type": "markdown",
   "id": "67cbfe4e-1a60-4460-8cc1-e98ea9813fa8",
   "metadata": {},
   "source": [
    "#### Write three questions you would like to answer using this data"
   ]
  },
  {
   "cell_type": "markdown",
   "id": "4470f031-7d4f-4814-8f36-549be16c2eea",
   "metadata": {},
   "source": [
    "1. מהם הגורמים המרכזיים שתורמים להתרחשות תאונות דרכים, כגון תנאי מזג אוויר, סוגי כבישים או שעות ביום?"
   ]
  },
  {
   "cell_type": "markdown",
   "id": "3f76efd8-a896-4758-a774-811abd08e9ab",
   "metadata": {},
   "source": [
    "2. כיצד סוג הצומת שבו אירעה התאונה (כגון צומת מרומזר, צומת עגול או צומת לא מרומזר) משפיע על חומרת הפגיעה בנפגעים, ועל מספר כלי הרכב המעורבים בתאונה"
   ]
  },
  {
   "cell_type": "markdown",
   "id": "b7972801-dab3-4405-9ac9-c025162d858d",
   "metadata": {},
   "source": [
    "3. האם קיים קשר בין אופי האזור (עירוני/כפרי) לבין סוג התאונה ותדירותה, כמו גם הקשר לסוג כלי הרכב (פרטי/ציבורי) וימים בשבוע?"
   ]
  },
  {
   "cell_type": "code",
   "execution_count": null,
   "id": "83834c34-3883-4a98-8d9d-7f26e7f09f2e",
   "metadata": {},
   "outputs": [],
   "source": []
  },
  {
   "cell_type": "code",
   "execution_count": null,
   "id": "c241c7ac-513e-4862-8012-665d29598a78",
   "metadata": {},
   "outputs": [],
   "source": []
  },
  {
   "cell_type": "markdown",
   "id": "dc311a43-0865-4458-acb9-e5bb00769069",
   "metadata": {},
   "source": [
    "<div style=\"background-color: #f0f0f0; padding: 10px; border-radius: 5px;\">\n",
    "  <span style=\"color: red;\"><strong>— Do not proceed beyond this point. This is for the next steps, do not fill in —</strong></span>\n",
    "</div>\n"
   ]
  },
  {
   "cell_type": "markdown",
   "id": "37abd2f7-3901-41d5-bfb3-e30d1b79dd34",
   "metadata": {},
   "source": [
    "---\n",
    "### <span style=\"color:green\"> Observation 1:</span>\n",
    "\n",
    ">\n",
    "> \n",
    ">\n",
    "> \n",
    "\n",
    "\n",
    "---"
   ]
  },
  {
   "cell_type": "code",
   "execution_count": null,
   "id": "786aab2d-6e34-4d95-937d-1244062116de",
   "metadata": {},
   "outputs": [],
   "source": []
  },
  {
   "cell_type": "code",
   "execution_count": null,
   "id": "4b6a7501-4d00-44bd-a819-685c14950060",
   "metadata": {},
   "outputs": [],
   "source": []
  },
  {
   "cell_type": "code",
   "execution_count": null,
   "id": "8dca1901-eaaf-4c56-b2a0-c071dfa05a44",
   "metadata": {},
   "outputs": [],
   "source": []
  },
  {
   "cell_type": "markdown",
   "id": "dabb806f-f18c-419a-b144-1e60ec5ce800",
   "metadata": {},
   "source": [
    "---\n",
    "### <span style=\"color:green\"> Observation 2:</span>\n",
    "\n",
    ">\n",
    "> \n",
    ">\n",
    "> \n",
    "\n",
    "\n",
    "---"
   ]
  },
  {
   "cell_type": "code",
   "execution_count": null,
   "id": "84301767-29e7-4c06-8ffa-e13d6a814d03",
   "metadata": {},
   "outputs": [],
   "source": []
  },
  {
   "cell_type": "code",
   "execution_count": null,
   "id": "6df3dfb1-5b21-4ad9-a524-b2978a2480d8",
   "metadata": {},
   "outputs": [],
   "source": []
  },
  {
   "cell_type": "code",
   "execution_count": null,
   "id": "34a9ee94-3b65-4b0a-a7f4-11a0ef4e700b",
   "metadata": {},
   "outputs": [],
   "source": []
  },
  {
   "cell_type": "markdown",
   "id": "d6c0aad1-ba36-496c-911d-6047a95c2b2d",
   "metadata": {},
   "source": [
    "---\n",
    "### <span style=\"color:green\"> Observation 3:</span>\n",
    "\n",
    ">\n",
    "> \n",
    ">\n",
    "> \n",
    "\n",
    "\n",
    "---"
   ]
  },
  {
   "cell_type": "code",
   "execution_count": null,
   "id": "d95ccb40-2e2b-470b-9c21-14cac0ff759c",
   "metadata": {},
   "outputs": [],
   "source": []
  },
  {
   "cell_type": "code",
   "execution_count": null,
   "id": "eb14a9f4-f33d-43f2-9e33-713254c2b122",
   "metadata": {},
   "outputs": [],
   "source": []
  },
  {
   "cell_type": "code",
   "execution_count": null,
   "id": "35655047-ecaa-4051-bbcd-c870764e80d0",
   "metadata": {},
   "outputs": [],
   "source": []
  },
  {
   "cell_type": "markdown",
   "id": "9b3f378b-0c61-4edf-9b36-a1cf55c3a5b5",
   "metadata": {},
   "source": [
    "---\n",
    "### <span style=\"color:green\"> Summary</span>\n",
    "\n",
    "> Anything you'd like to say - your conclusions, summary, how hard you worked etc.\n",
    "> \n",
    ">    \n",
    ">   \n",
    "   \n",
    "\n",
    "---"
   ]
  },
  {
   "cell_type": "code",
   "execution_count": null,
   "id": "9364ddf3-4fcb-4d4e-9ff6-0ab697e01e94",
   "metadata": {},
   "outputs": [],
   "source": []
  }
 ],
 "metadata": {
  "kernelspec": {
   "display_name": "Python 3 (ipykernel)",
   "language": "python",
   "name": "python3"
  },
  "language_info": {
   "codemirror_mode": {
    "name": "ipython",
    "version": 3
   },
   "file_extension": ".py",
   "mimetype": "text/x-python",
   "name": "python",
   "nbconvert_exporter": "python",
   "pygments_lexer": "ipython3",
   "version": "3.12.7"
  }
 },
 "nbformat": 4,
 "nbformat_minor": 5
}
